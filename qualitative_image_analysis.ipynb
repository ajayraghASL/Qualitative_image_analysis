{
 "cells": [
  {
   "cell_type": "markdown",
   "metadata": {},
   "source": [
    "### Title: Qualitative Image Analysis Metrics \n",
    "#### Author: Ajay Ragh"
   ]
  },
  {
   "cell_type": "code",
   "execution_count": 1,
   "metadata": {},
   "outputs": [],
   "source": [
    "from sklearn.metrics import mean_absolute_error as mae\n",
    "from sklearn.metrics import mean_squared_error as mse\n",
    "from skimage.metrics import structural_similarity as ssim\n",
    "import imageio\n",
    "import os \n",
    "import matplotlib.pyplot as plt\n",
    "import numpy as np"
   ]
  },
  {
   "cell_type": "markdown",
   "metadata": {},
   "source": [
    "##### File paths for target directories or  images"
   ]
  },
  {
   "cell_type": "code",
   "execution_count": null,
   "metadata": {},
   "outputs": [],
   "source": [
    "filepath1 = \"/home/ajay/work/Sparse CT/cancerimagingarchivedata/Walnut1/full_agd/\"\n",
    "filepath2 = \"/home/ajay/work/Sparse CT/cancerimagingarchivedata/Walnut1/reconstructions/full/Walnut1_angs=2/\"\n",
    "filepath3 = \"/home/ajay/work/Sparse CT/cancerimagingarchivedata/Walnut1/reconstructions/full/Walnut1_angs=10/\"\n",
    "\n",
    "img1 = \"/home/ajay/work/Sparse CT/interpolation/image_dir/G_epoch40img2.png\"\n",
    "img2 = \"/home/ajay/work/Sparse CT/interpolation/image_dir/Z2_epoch0img2.png\""
   ]
  },
  {
   "cell_type": "markdown",
   "metadata": {},
   "source": [
    "###### Individual image analysis"
   ]
  },
  {
   "cell_type": "code",
   "execution_count": 38,
   "metadata": {},
   "outputs": [
    {
     "name": "stdout",
     "output_type": "stream",
     "text": [
      "(512, 512, 3)\n",
      "(512, 512, 3)\n"
     ]
    }
   ],
   "source": [
    "image1 = imageio.imread(img1)\n",
    "image2 = imageio.imread(img2)\n",
    "print(np.shape(image1))\n",
    "print(np.shape(image2))"
   ]
  },
  {
   "cell_type": "code",
   "execution_count": 41,
   "metadata": {},
   "outputs": [
    {
     "name": "stdout",
     "output_type": "stream",
     "text": [
      "48.6871337890625\n",
      "16.164566040039062\n",
      "0.9626895371918848\n"
     ]
    }
   ],
   "source": [
    "ma_err = mae(image1[:,:,0],image2[:,:,0])\n",
    "ms_err = mse(image1[:,:,0],image2[:,:,0])\n",
    "ssim_err = ssim(image1[:,:,0],image2[:,:,0],data_range=(image1.max()-image1.min()))\n",
    "print(ma_err)\n",
    "print(ms_err)\n",
    "print(ssim_err)"
   ]
  },
  {
   "cell_type": "markdown",
   "metadata": {},
   "source": [
    "###### Analyzing image directories"
   ]
  },
  {
   "cell_type": "code",
   "execution_count": null,
   "metadata": {},
   "outputs": [],
   "source": [
    "files1 = sorted(os.listdir(filepath1))\n",
    "files2 = sorted(os.listdir(filepath2))\n",
    "files3 = sorted(os.listdir(filepath3))\n"
   ]
  },
  {
   "cell_type": "code",
   "execution_count": null,
   "metadata": {},
   "outputs": [],
   "source": [
    "maelist1 = []\n",
    "mselist1 = []\n",
    "ssimlist1 = []\n",
    "maelist2 = []\n",
    "mselist2 = []\n",
    "ssimlist2 = []\n",
    "for i in range(len(files1)):\n",
    "    im1 = imageio.imread(filepath1+files1[i])\n",
    "    im2 = imageio.imread(filepath2+files2[i])\n",
    "    im3 = imageio.imread(filepath3+files3[i])\n",
    "    ma_err1 = mae(im1,im2)\n",
    "    ms_err1 = mse(im1,im2)\n",
    "    ssim_err1 = ssim(im1,im2,data_range=(im1.max()-im1.min()))\n",
    "    ma_err2 = mae(im1,im3)\n",
    "    ms_err2 = mse(im1,im3)\n",
    "    ssim_err2 = ssim(im1,im3,data_range=(im1.max()-im1.min()))\n",
    "    maelist1.append(ma_err1)\n",
    "    mselist1.append(ms_err1)\n",
    "    ssimlist1.append(ssim_err1)\n",
    "    maelist2.append(ma_err2)\n",
    "    mselist2.append(ms_err2)\n",
    "    ssimlist2.append(ssim_err2)\n",
    "# np.savetxt(\"mae_20vs50.txt\",maelist)\n",
    "# np.savetxt(\"mse_20vs50.txt\",mselist)\n",
    "# np.savetxt(\"ssim_2vs10.txt\",ssimlist)"
   ]
  },
  {
   "cell_type": "code",
   "execution_count": null,
   "metadata": {
    "scrolled": true
   },
   "outputs": [],
   "source": [
    "plt.plot(maelist1)\n",
    "plt.plot(maelist2)"
   ]
  },
  {
   "cell_type": "code",
   "execution_count": null,
   "metadata": {},
   "outputs": [],
   "source": [
    "plt.plot(mselist1)\n",
    "plt.plot(mselist2)"
   ]
  },
  {
   "cell_type": "code",
   "execution_count": null,
   "metadata": {},
   "outputs": [],
   "source": [
    "plt.plot(ssimlist1)\n",
    "plt.plot(ssimlist2)"
   ]
  }
 ],
 "metadata": {
  "kernelspec": {
   "display_name": "Python 3",
   "language": "python",
   "name": "python3"
  },
  "language_info": {
   "codemirror_mode": {
    "name": "ipython",
    "version": 3
   },
   "file_extension": ".py",
   "mimetype": "text/x-python",
   "name": "python",
   "nbconvert_exporter": "python",
   "pygments_lexer": "ipython3",
   "version": "3.6.9"
  }
 },
 "nbformat": 4,
 "nbformat_minor": 4
}
